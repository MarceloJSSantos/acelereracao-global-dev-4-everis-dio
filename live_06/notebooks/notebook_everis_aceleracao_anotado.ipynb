{
  "nbformat": 4,
  "nbformat_minor": 0,
  "metadata": {
    "colab": {
      "name": "notebook_everis_aceleracao_anotado.ipynb",
      "provenance": [],
      "collapsed_sections": []
    },
    "kernelspec": {
      "name": "python3",
      "display_name": "Python 3"
    }
  },
  "cells": [
    {
      "cell_type": "code",
      "metadata": {
        "colab": {
          "base_uri": "https://localhost:8080/"
        },
        "id": "JIM949C883Zb",
        "outputId": "65ce1af7-82de-4bcb-e0c8-afa61bc07b13"
      },
      "source": [
        "# criando função em Python\r\n",
        "# nota: em Python o contexto do bloco é de acordo com identação\r\n",
        "def helloWorld():\r\n",
        "  # criação e atribuição de variável (em Python o tipo é definido\r\n",
        "  # em tempo de execuçao de acordo com o conteúdo)\r\n",
        "  name = 'Aceleração Gloval #4 - Everis - Marcelo Santos'\r\n",
        "\r\n",
        "  # exibe em tela\r\n",
        "  print( name )\r\n",
        "\r\n",
        "# executando/chamando função\r\n",
        "helloWorld()"
      ],
      "execution_count": 2,
      "outputs": [
        {
          "output_type": "stream",
          "text": [
            "Aceleração Gloval #4 - Everis - Marcelo Santos\n"
          ],
          "name": "stdout"
        }
      ]
    },
    {
      "cell_type": "code",
      "metadata": {
        "colab": {
          "base_uri": "https://localhost:8080/"
        },
        "id": "z0WtFt2M90IF",
        "outputId": "ada64440-fe28-4125-bc09-f4f506819997"
      },
      "source": [
        "# exemplo de if/else, função c/ argumento\r\n",
        "def calcBalada( age ):\r\n",
        "  \r\n",
        "  if( age >= 18 ):\r\n",
        "    print('👍 Beleza, pode entrar na balada');\r\n",
        "  else:\r\n",
        "    print('Vaza, volta aqui mais tarde ! 👉');\r\n",
        "\r\n",
        "calcBalada( 28 )\r\n",
        "print('...')\r\n",
        "calcBalada( 16 )"
      ],
      "execution_count": 8,
      "outputs": [
        {
          "output_type": "stream",
          "text": [
            "👍 Beleza, pode entrar na balada\n",
            "...\n",
            "Vaza, volta aqui mais tarde ! 👉\n"
          ],
          "name": "stdout"
        }
      ]
    },
    {
      "cell_type": "code",
      "metadata": {
        "colab": {
          "base_uri": "https://localhost:8080/"
        },
        "id": "z28FOnV4-jz7",
        "outputId": "a986aa8f-83f2-4fbf-f412-d7ebb1add1e1"
      },
      "source": [
        "# exemplo de for iterando array\r\n",
        "def forExample():\r\n",
        "  \r\n",
        "  # Definindo o array\r\n",
        "  names = ['Huguinho', 'John', 'Marcelo'];\r\n",
        "\r\n",
        "  for name in names:\r\n",
        "    # ... concatenação\r\n",
        "    print( ' Aceleração global - ' + name )\r\n",
        "\r\n",
        "# Invocando a função\r\n",
        "forExample()"
      ],
      "execution_count": 10,
      "outputs": [
        {
          "output_type": "stream",
          "text": [
            " Aceleração global - Huguinho\n",
            " Aceleração global - John\n",
            " Aceleração global - Marcelo\n"
          ],
          "name": "stdout"
        }
      ]
    },
    {
      "cell_type": "code",
      "metadata": {
        "colab": {
          "base_uri": "https://localhost:8080/"
        },
        "id": "ixfL6dX8_2yl",
        "outputId": "ee923957-9a9a-4438-fabe-6c0c65c95b8f"
      },
      "source": [
        "# exemplo de for iterando objeto\r\n",
        "def mapExample():\r\n",
        "\r\n",
        "  # objeto criado\r\n",
        "  person1 = {\r\n",
        "      'name' : 'Huguinho',\r\n",
        "      'title' : 'Expert IT Techonology'\r\n",
        "  };\r\n",
        "\r\n",
        "  # acrescenta um atributo ao objeto\r\n",
        "  person1['localization'] = 'Santos'\r\n",
        "\r\n",
        "  for key in person1:\r\n",
        "    print('key', key, ' | value', person1[ key ] )\r\n",
        "\r\n",
        "mapExample()"
      ],
      "execution_count": 15,
      "outputs": [
        {
          "output_type": "stream",
          "text": [
            "key name  | value Huguinho\n",
            "key title  | value Expert IT Techonology\n",
            "key localization  | value Santos\n"
          ],
          "name": "stdout"
        }
      ]
    },
    {
      "cell_type": "code",
      "metadata": {
        "colab": {
          "base_uri": "https://localhost:8080/"
        },
        "id": "F9m5sYFVAik2",
        "outputId": "238c211a-4d6b-4fe1-b171-8df5ab191a6a"
      },
      "source": [
        "# exemplo de for c/ map\r\n",
        "def forWithMap():\r\n",
        "  # cria os objetos\r\n",
        "  person1 = {\r\n",
        "      'name' : 'Huguinho',\r\n",
        "      'title' : 'Expert IT Techonology'\r\n",
        "  };\r\n",
        "\r\n",
        "  person2 = {\r\n",
        "      'name' : 'Marcelo',\r\n",
        "      'title' : 'Future Data Engineer at Everis'\r\n",
        "  };\r\n",
        "\r\n",
        "  person1['localization'] = 'Santos'\r\n",
        "  person2['localization'] = 'Rio de Janeiro'\r\n",
        "\r\n",
        "  # cria lista/array\r\n",
        "  lista = [];\r\n",
        "  \r\n",
        "  # adiciona os obejtos na lista\r\n",
        "  lista.append( person1 );\r\n",
        "  lista.append( person2 );\r\n",
        "\r\n",
        "  # exibe a quantidade de itens da lista/array\r\n",
        "  print('tamanho do array', len( lista ) );\r\n",
        "\r\n",
        "  # percorre a lista acessando os valores dos objetos\r\n",
        "  for obj in lista:\r\n",
        "    print('Name: ', obj['name'], ' | title: ', obj['title'], ' | localization ', obj['localization'] );\r\n",
        "\r\n",
        "forWithMap();"
      ],
      "execution_count": 19,
      "outputs": [
        {
          "output_type": "stream",
          "text": [
            "tamanho do array 2\n",
            "Name:  Huguinho  | title:  Expert IT Techonology  | localization  Santos\n",
            "Name:  Marcelo  | title:  Future Data Engineer at Everis  | localization  Rio de Janeiro\n"
          ],
          "name": "stdout"
        }
      ]
    }
  ]
}