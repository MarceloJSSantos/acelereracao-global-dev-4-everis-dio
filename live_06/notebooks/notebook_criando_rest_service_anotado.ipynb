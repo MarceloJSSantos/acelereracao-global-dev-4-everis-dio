{
  "nbformat": 4,
  "nbformat_minor": 0,
  "metadata": {
    "colab": {
      "name": "notebook_criando_rest_service_anotado.ipynb",
      "provenance": [],
      "collapsed_sections": []
    },
    "kernelspec": {
      "name": "python3",
      "display_name": "Python 3"
    }
  },
  "cells": [
    {
      "cell_type": "code",
      "metadata": {
        "id": "62FuO3dirnMw",
        "colab": {
          "base_uri": "https://localhost:8080/"
        },
        "outputId": "81b1ac24-2836-460e-c0e6-9e299d6180f2"
      },
      "source": [
        "# Instalando bibiotecas externas\n",
        "# flask: framework web (usado aqui para criar os endponts)\n",
        "# flask-ngrok: para criar uma url dinâmica para acesso externo\n",
        "!pip install flask flask-ngrok"
      ],
      "execution_count": 1,
      "outputs": [
        {
          "output_type": "stream",
          "text": [
            "Requirement already satisfied: flask in /usr/local/lib/python3.6/dist-packages (1.1.2)\n",
            "Collecting flask-ngrok\n",
            "  Downloading https://files.pythonhosted.org/packages/af/6c/f54cb686ad1129e27d125d182f90f52b32f284e6c8df58c1bae54fa1adbc/flask_ngrok-0.0.25-py3-none-any.whl\n",
            "Requirement already satisfied: Werkzeug>=0.15 in /usr/local/lib/python3.6/dist-packages (from flask) (1.0.1)\n",
            "Requirement already satisfied: itsdangerous>=0.24 in /usr/local/lib/python3.6/dist-packages (from flask) (1.1.0)\n",
            "Requirement already satisfied: click>=5.1 in /usr/local/lib/python3.6/dist-packages (from flask) (7.1.2)\n",
            "Requirement already satisfied: Jinja2>=2.10.1 in /usr/local/lib/python3.6/dist-packages (from flask) (2.11.2)\n",
            "Requirement already satisfied: requests in /usr/local/lib/python3.6/dist-packages (from flask-ngrok) (2.23.0)\n",
            "Requirement already satisfied: MarkupSafe>=0.23 in /usr/local/lib/python3.6/dist-packages (from Jinja2>=2.10.1->flask) (1.1.1)\n",
            "Requirement already satisfied: certifi>=2017.4.17 in /usr/local/lib/python3.6/dist-packages (from requests->flask-ngrok) (2020.12.5)\n",
            "Requirement already satisfied: idna<3,>=2.5 in /usr/local/lib/python3.6/dist-packages (from requests->flask-ngrok) (2.10)\n",
            "Requirement already satisfied: urllib3!=1.25.0,!=1.25.1,<1.26,>=1.21.1 in /usr/local/lib/python3.6/dist-packages (from requests->flask-ngrok) (1.24.3)\n",
            "Requirement already satisfied: chardet<4,>=3.0.2 in /usr/local/lib/python3.6/dist-packages (from requests->flask-ngrok) (3.0.4)\n",
            "Installing collected packages: flask-ngrok\n",
            "Successfully installed flask-ngrok-0.0.25\n"
          ],
          "name": "stdout"
        }
      ]
    },
    {
      "cell_type": "code",
      "metadata": {
        "id": "KWMlN1NEtJhI",
        "colab": {
          "base_uri": "https://localhost:8080/"
        },
        "outputId": "296f4b16-76d4-474e-96df-5b9fae22012c"
      },
      "source": [
        "# Criando o server\n",
        "\n",
        "# importa a biblioteca que manipula json\n",
        "import json\n",
        "\n",
        "# importa as classes específicas das bibliotecas flask e flask_ngrok\n",
        "from flask_ngrok import run_with_ngrok\n",
        "from flask import Flask, request, make_response\n",
        "\n",
        "# cria um app flask\n",
        "app = Flask(__name__)\n",
        "\n",
        "#starts ngrok when the app is run\n",
        "run_with_ngrok(app)   \n",
        "\n",
        "# define as rotas do app\n",
        "# endpont + os métodos HTTP que o mesmo fará uso (pode ser mais de 1, como\n",
        "# nesse caso)\n",
        "@app.route(\"/\", methods = ['GET', 'POST', 'DELETE'])\n",
        "\n",
        "def home():\n",
        "    # cria e define um array de nomes\n",
        "    pessoas = [{\"nome\": \"Bruno Rocha\"},\n",
        "               {\"nome\": \"Arjen Lucassen\"},\n",
        "               {\"nome\": \"Anneke van Giersbergen\"},\n",
        "               {\"nome\": \"Steven Wilson\"}]\n",
        "    \n",
        "    # cria uma variável c/ o response que terá um arquivo jason com os dados\n",
        "    # de pessoas\n",
        "    response = make_response(json.dumps(pessoas))\n",
        "    \n",
        "    # sinaliza que o response realmente é um json\n",
        "    response.content_type = \"application/json\"\n",
        "\n",
        "    # retorna o response produzido\n",
        "    return response\n",
        "\n",
        "    # O retorno pode ser um HTML\n",
        "    # return \"<h1>Running Flask on Google Colab!</h1>\"\n",
        "  \n",
        "app.run()"
      ],
      "execution_count": 5,
      "outputs": [
        {
          "output_type": "stream",
          "text": [
            " * Serving Flask app \"__main__\" (lazy loading)\n",
            " * Environment: production\n",
            "\u001b[31m   WARNING: This is a development server. Do not use it in a production deployment.\u001b[0m\n",
            "\u001b[2m   Use a production WSGI server instead.\u001b[0m\n",
            " * Debug mode: off\n"
          ],
          "name": "stdout"
        },
        {
          "output_type": "stream",
          "text": [
            " * Running on http://127.0.0.1:5000/ (Press CTRL+C to quit)\n"
          ],
          "name": "stderr"
        },
        {
          "output_type": "stream",
          "text": [
            " * Running on http://98007e6389a9.ngrok.io\n",
            " * Traffic stats available on http://127.0.0.1:4040\n"
          ],
          "name": "stdout"
        },
        {
          "output_type": "stream",
          "text": [
            "127.0.0.1 - - [28/Jan/2021 21:10:17] \"\u001b[37mGET / HTTP/1.1\u001b[0m\" 200 -\n",
            "127.0.0.1 - - [28/Jan/2021 21:10:18] \"\u001b[33mGET /favicon.ico HTTP/1.1\u001b[0m\" 404 -\n",
            "127.0.0.1 - - [28/Jan/2021 21:10:37] \"\u001b[37mGET / HTTP/1.1\u001b[0m\" 200 -\n"
          ],
          "name": "stderr"
        }
      ]
    },
    {
      "cell_type": "code",
      "metadata": {
        "id": "LEMq8bghtoqc"
      },
      "source": [
        ""
      ],
      "execution_count": null,
      "outputs": []
    }
  ]
}