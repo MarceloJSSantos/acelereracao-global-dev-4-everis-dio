{
  "nbformat": 4,
  "nbformat_minor": 0,
  "metadata": {
    "colab": {
      "name": "notebook_everis_pandas_anotado.ipynb",
      "provenance": [],
      "collapsed_sections": []
    },
    "kernelspec": {
      "name": "python3",
      "display_name": "Python 3"
    }
  },
  "cells": [
    {
      "cell_type": "code",
      "metadata": {
        "colab": {
          "base_uri": "https://localhost:8080/"
        },
        "id": "0udPnTfMeLt7",
        "outputId": "39db0533-8ea8-4571-aa6d-4f650138b51c"
      },
      "source": [
        "# importa a biblioteca Pandas para uso\r\n",
        "# Pandas é uma biblioteca que fornece estruturas e ferramentas para análise de\r\n",
        "# dados\r\n",
        "import pandas as pd\r\n",
        "\r\n",
        "def createDataframe():\r\n",
        "\r\n",
        "  # cria um objeto map e popula o objeto através de listas de valores para\r\n",
        "  # cada chave\r\n",
        "  map = {\r\n",
        "      \"name\" : [\"Huguinho\", \"Student 1\", \"Marcelo\", \"Desconhecido\"],\r\n",
        "      \"age\" : [ 28, 18, 45, \"\"],\r\n",
        "      \"location\" : [\"Santos\", \"São Paulo\", \"Rio de Janeiro\", None]\r\n",
        "  }\r\n",
        "\r\n",
        "  # cria o 'dataframe' pandas c/ os dados do map\r\n",
        "  # nota: na criação do df os dados todos os valores tem que ser definidos\r\n",
        "  # mesmo que com \"\" (vazio) ou None (null)\r\n",
        "  df = pd.DataFrame( map );\r\n",
        "\r\n",
        "  # exibe o conteúdo do df\r\n",
        "  print( df );\r\n",
        "\r\n",
        "createDataframe()"
      ],
      "execution_count": 6,
      "outputs": [
        {
          "output_type": "stream",
          "text": [
            "           name age        location\n",
            "0      Huguinho  28          Santos\n",
            "1     Student 1  18       São Paulo\n",
            "2       Marcelo  45  Rio de Janeiro\n",
            "3  Desconhecido                None\n"
          ],
          "name": "stdout"
        }
      ]
    },
    {
      "cell_type": "code",
      "metadata": {
        "colab": {
          "base_uri": "https://localhost:8080/"
        },
        "id": "KbG7DjtHfTt1",
        "outputId": "0da3d32d-2a10-423a-9a13-7553d7eba8b3"
      },
      "source": [
        "def iterateDataframe():\r\n",
        "\r\n",
        "  map = {\r\n",
        "      \"name\" : [\"Huguinho\", \"Student 1\", \"Student 2\", \"Marcelo\"],\r\n",
        "      \"age\" : [ 28, 18, 32, 45 ],\r\n",
        "      \"location\" : [\"Santos\", \"São Paulo\", \"Rio de Janeiro\", \"Rio de Janeiro\"]\r\n",
        "  }\r\n",
        "\r\n",
        "  df = pd.DataFrame( map );\r\n",
        "\r\n",
        "  # não indicado para alto volume de dados ( somente para conhecimento )\r\n",
        "  # df[<nome da coluna>][<índice>]\r\n",
        "  for index in df.index:\r\n",
        "    print(\"item\", df[\"name\"][ index ], \" | index\", index  );\r\n",
        "\r\n",
        "iterateDataframe()"
      ],
      "execution_count": 7,
      "outputs": [
        {
          "output_type": "stream",
          "text": [
            "item Huguinho  | index 0\n",
            "item Student 1  | index 1\n",
            "item Student 2  | index 2\n",
            "item Marcelo  | index 3\n"
          ],
          "name": "stdout"
        }
      ]
    },
    {
      "cell_type": "code",
      "metadata": {
        "colab": {
          "base_uri": "https://localhost:8080/"
        },
        "id": "AQBbcG-Jh66V",
        "outputId": "1ef1fea3-f901-47ba-a036-3f2b500d7fe0"
      },
      "source": [
        "def addColumnDataframe():\r\n",
        "\r\n",
        "  map = {\r\n",
        "      \"name\" : [\"Huguinho\", \"Student 1\", \"Student 2\"],\r\n",
        "      \"age\" : [ 28, 18, 32 ],\r\n",
        "      \"location\" : [\"Santos\", \"São Paulo\", \"Rio de Janeiro\"]\r\n",
        "  }\r\n",
        "\r\n",
        "  df = pd.DataFrame( map );\r\n",
        "\r\n",
        "  # adicionando uma nova coluna\r\n",
        "  # cria lista com os dados da nova coluna\r\n",
        "  address = ['Rua de teste 1', 'Rua de teste 2', 'Rua de teste 3'];\r\n",
        "  # atribui a lista ao dataframe\r\n",
        "  df['address'] = address;\r\n",
        "\r\n",
        "  print( df )\r\n",
        "\r\n",
        "addColumnDataframe()"
      ],
      "execution_count": 8,
      "outputs": [
        {
          "output_type": "stream",
          "text": [
            "        name  age        location         address\n",
            "0   Huguinho   28          Santos  Rua de teste 1\n",
            "1  Student 1   18       São Paulo  Rua de teste 2\n",
            "2  Student 2   32  Rio de Janeiro  Rua de teste 3\n"
          ],
          "name": "stdout"
        }
      ]
    },
    {
      "cell_type": "code",
      "metadata": {
        "colab": {
          "base_uri": "https://localhost:8080/"
        },
        "id": "0DYN8v00iQqM",
        "outputId": "d3e6761b-2ade-42b8-dfb0-407d9c31acb9"
      },
      "source": [
        "def removeColumnDataframe():\r\n",
        "\r\n",
        "  map = {\r\n",
        "      \"name\" : [\"Huguinho\", \"Student 1\", \"Student 2\"],\r\n",
        "      \"age\" : [ 28, 18, 32 ],\r\n",
        "      \"location\" : [\"Santos\", \"São Paulo\", \"Rio de Janeiro\"]\r\n",
        "  }\r\n",
        "\r\n",
        "  df = pd.DataFrame( map );\r\n",
        "\r\n",
        "  # cria um no dataframe, removendo a linha pelo índice e atribui ao df\r\n",
        "  # (substitui os dados)\r\n",
        "  df = df.drop(1)\r\n",
        "  # cria um novo dataframe sem perder o anterior\r\n",
        "  df2 = df\r\n",
        "  df2 = df2.drop(0)\r\n",
        "\r\n",
        "  print(\"--- df ---\")\r\n",
        "  print( df )\r\n",
        "  print(\"--- df2 ---\")\r\n",
        "  print( df2 )\r\n",
        "  print(\"---------------------------\")\r\n",
        "\r\n",
        "  # Removendo a coluna pelo nome\r\n",
        "  df = df.drop( columns=[\"age\"] );\r\n",
        "  # cria um novo dataframe sem perder o anterior\r\n",
        "  df2 = df\r\n",
        "  df2 = df2.drop(columns=[\"location\"])\r\n",
        "\r\n",
        "  print(\"--- df ---\")\r\n",
        "  print( df )\r\n",
        "  print(\"--- df2 ---\")\r\n",
        "  print( df2 )\r\n",
        "\r\n",
        "removeColumnDataframe()"
      ],
      "execution_count": 24,
      "outputs": [
        {
          "output_type": "stream",
          "text": [
            "--- df ---\n",
            "        name  age        location\n",
            "0   Huguinho   28          Santos\n",
            "2  Student 2   32  Rio de Janeiro\n",
            "--- df2 ---\n",
            "        name  age        location\n",
            "2  Student 2   32  Rio de Janeiro\n",
            "---------------------------\n",
            "--- df ---\n",
            "        name        location\n",
            "0   Huguinho          Santos\n",
            "2  Student 2  Rio de Janeiro\n",
            "--- df2 ---\n",
            "        name\n",
            "0   Huguinho\n",
            "2  Student 2\n"
          ],
          "name": "stdout"
        }
      ]
    },
    {
      "cell_type": "code",
      "metadata": {
        "colab": {
          "base_uri": "https://localhost:8080/"
        },
        "id": "7eYEEfdOjksq",
        "outputId": "85c18486-632e-4129-c998-a62bc5fd1c44"
      },
      "source": [
        "def filterDataframe():\r\n",
        "\r\n",
        "  map = {\r\n",
        "      \"name\" : [\"Huguinho\", \"Marcelo\", \"Student 2\", \"Student 3\", \"Student 4\"],\r\n",
        "      \"age\" : [ 28, 45, 32, 17, 28 ],\r\n",
        "      \"location\" : [\"Santos\", \"Rio de Janeiro\", \"Uberlândia\", \"São Paulo\", \"São Paulo\"]\r\n",
        "  }\r\n",
        "\r\n",
        "  df = pd.DataFrame( map );\r\n",
        "\r\n",
        "  # criando o filtro\r\n",
        "  filterAge = df[\"age\"] >= 18;\r\n",
        "  filterLocation = df[\"location\"] == 'Rio de Janeiro';\r\n",
        "\r\n",
        "  # Filtrando a lista\r\n",
        "  filteredListAge = df[ filterAge ];\r\n",
        "  filteredListLocation = df[ filterLocation ];\r\n",
        "  filteredListAgeLocation = df[ filterAge ].loc[ filterLocation ]\r\n",
        "\r\n",
        "  print(\"Sem filtro ----------------------------------------------------\");\r\n",
        "  print ( df );\r\n",
        "  print(\"\\nFiltrado por Idade --------------------------------------------\");\r\n",
        "  print( filteredListAge )\r\n",
        "  print(\"\\nFiltrado por Cidade -------------------------------------------\");\r\n",
        "  print( filteredListLocation )\r\n",
        "  print(\"\\nFiltrado por Idade e Cidade -----------------------------------\");\r\n",
        "  print( filteredListAgeLocation )\r\n",
        "\r\n",
        "filterDataframe()"
      ],
      "execution_count": 38,
      "outputs": [
        {
          "output_type": "stream",
          "text": [
            "Sem filtro ----------------------------------------------------\n",
            "        name  age        location\n",
            "0   Huguinho   28          Santos\n",
            "1    Marcelo   45  Rio de Janeiro\n",
            "2  Student 2   32      Uberlândia\n",
            "3  Student 3   17       São Paulo\n",
            "4  Student 4   28       São Paulo\n",
            "\n",
            "Filtrado por Idade --------------------------------------------\n",
            "        name  age        location\n",
            "0   Huguinho   28          Santos\n",
            "1    Marcelo   45  Rio de Janeiro\n",
            "2  Student 2   32      Uberlândia\n",
            "4  Student 4   28       São Paulo\n",
            "\n",
            "Filtrado por Cidade -------------------------------------------\n",
            "      name  age        location\n",
            "1  Marcelo   45  Rio de Janeiro\n",
            "\n",
            "Filtrado por Idade e Cidade -----------------------------------\n",
            "      name  age        location\n",
            "1  Marcelo   45  Rio de Janeiro\n"
          ],
          "name": "stdout"
        }
      ]
    },
    {
      "cell_type": "code",
      "metadata": {
        "colab": {
          "base_uri": "https://localhost:8080/"
        },
        "id": "k7mFnp0jkpd9",
        "outputId": "47371e95-5179-4064-dc2c-37ec3867c134"
      },
      "source": [
        "def stringDataframe():\r\n",
        "\r\n",
        "  map = {\r\n",
        "      \"name\" : [\"Huguinho\", \"Student 1\", \"Student 2\", \"Student 3\", \"Student 4\", \"Marcelo\"],\r\n",
        "      \"age\" : [ 28, 18, 32, 17, 14, 45 ],\r\n",
        "      \"location\" : [\"santos\", \"são Paulo\", \"rio de Janeiro\", \"são Paulo\", \"São Paulo\", \"Rio de janeiro\"]\r\n",
        "  }\r\n",
        "\r\n",
        "  df = pd.DataFrame( map );\r\n",
        "\r\n",
        "  # tratando strings\r\n",
        "\r\n",
        "  print(\"original dataframe\")\r\n",
        "  print ( df );\r\n",
        "  print(\"-------------------------------------------\");\r\n",
        "\r\n",
        "  # todas as palavras p/ maiúscula\r\n",
        "  print()\r\n",
        "  print(\"Upper case\")\r\n",
        "  # só a coluna\r\n",
        "  print( df[\"location\"].str.upper() )\r\n",
        "  print(\"--------------------------------------------\");\r\n",
        "\r\n",
        "  print()\r\n",
        "  print(\"Upper in dataframe\")\r\n",
        "  # modificando o dataframe\r\n",
        "  df[\"location\"] = df[\"location\"].str.upper()\r\n",
        "  print( df );\r\n",
        "  print(\"------------------------------------------\");\r\n",
        "\r\n",
        "  # Somente a 1.ª letra da string p/ maiuscula\r\n",
        "  print()\r\n",
        "  print(\"Capitalize\")\r\n",
        "  df[\"location\"] = df[\"location\"].str.capitalize()\r\n",
        "  print( df );\r\n",
        "  print(\"------------------------------------------\");\r\n",
        "\r\n",
        "  # Somente a primeira de cada palavra\r\n",
        "  print()\r\n",
        "  print(\"Title\")\r\n",
        "  df[\"location\"] = df[\"location\"].str.title()\r\n",
        "  print( df );\r\n",
        "  print(\"------------------------------------------\");\r\n",
        "\r\n",
        "  # exibe só os nomes das colunas do dataframe c/ a quantidade de registros\r\n",
        "  # setado\r\n",
        "  print(\"\\nNome das colunas c/ os 2 primeiros regisstros\")\r\n",
        "  print(df.head(2))\r\n",
        "\r\n",
        "stringDataframe()"
      ],
      "execution_count": 47,
      "outputs": [
        {
          "output_type": "stream",
          "text": [
            "original dataframe\n",
            "        name  age        location\n",
            "0   Huguinho   28          santos\n",
            "1  Student 1   18       são Paulo\n",
            "2  Student 2   32  rio de Janeiro\n",
            "3  Student 3   17       são Paulo\n",
            "4  Student 4   14       São Paulo\n",
            "5    Marcelo   45  Rio de janeiro\n",
            "-------------------------------------------\n",
            "\n",
            "Upper case\n",
            "0            SANTOS\n",
            "1         SÃO PAULO\n",
            "2    RIO DE JANEIRO\n",
            "3         SÃO PAULO\n",
            "4         SÃO PAULO\n",
            "5    RIO DE JANEIRO\n",
            "Name: location, dtype: object\n",
            "--------------------------------------------\n",
            "\n",
            "Upper in dataframe\n",
            "        name  age        location\n",
            "0   Huguinho   28          SANTOS\n",
            "1  Student 1   18       SÃO PAULO\n",
            "2  Student 2   32  RIO DE JANEIRO\n",
            "3  Student 3   17       SÃO PAULO\n",
            "4  Student 4   14       SÃO PAULO\n",
            "5    Marcelo   45  RIO DE JANEIRO\n",
            "------------------------------------------\n",
            "\n",
            "Capitalize\n",
            "        name  age        location\n",
            "0   Huguinho   28          Santos\n",
            "1  Student 1   18       São paulo\n",
            "2  Student 2   32  Rio de janeiro\n",
            "3  Student 3   17       São paulo\n",
            "4  Student 4   14       São paulo\n",
            "5    Marcelo   45  Rio de janeiro\n",
            "------------------------------------------\n",
            "\n",
            "Title\n",
            "        name  age        location\n",
            "0   Huguinho   28          Santos\n",
            "1  Student 1   18       São Paulo\n",
            "2  Student 2   32  Rio De Janeiro\n",
            "3  Student 3   17       São Paulo\n",
            "4  Student 4   14       São Paulo\n",
            "5    Marcelo   45  Rio De Janeiro\n",
            "------------------------------------------\n",
            "\n",
            "Nome das colunas c/ os 2 primeiros regisstros\n",
            "        name  age   location\n",
            "0   Huguinho   28     Santos\n",
            "1  Student 1   18  São Paulo\n"
          ],
          "name": "stdout"
        }
      ]
    },
    {
      "cell_type": "code",
      "metadata": {
        "colab": {
          "base_uri": "https://localhost:8080/"
        },
        "id": "A7Oe8JlhmV25",
        "outputId": "a2a4c768-63cb-42af-b7cf-7f89c1e7d1fa"
      },
      "source": [
        "def renameDataframe():\r\n",
        "\r\n",
        "  map = {\r\n",
        "      \"name\" : [\"Huguinho\", \"Student 1\", \"Student 2\", \"Student 3\", \"Student 4\"],\r\n",
        "      \"age\" : [ 28, 18, 32, 17, 14 ],\r\n",
        "      \"location\" : [\"Santos\", \"São Paulo\", \"Rio de Janeiro\", \"São Paulo\", \"São Paulo\"]\r\n",
        "  }\r\n",
        "\r\n",
        "  df = pd.DataFrame( map );\r\n",
        "\r\n",
        "  # renomea o nome da coluna\r\n",
        "  # .rename(columns={<nome antigo>: <novo nome>, n...})\r\n",
        "  df = df.rename(columns={\"age\": \"Idade\", \"location\": \"Localização\", \"name\":\"Nome\"})\r\n",
        "\r\n",
        "  print ( df );\r\n",
        "  print(\"----------------------\");\r\n",
        "\r\n",
        "renameDataframe()"
      ],
      "execution_count": 49,
      "outputs": [
        {
          "output_type": "stream",
          "text": [
            "        Nome  Idade     Localização\n",
            "0   Huguinho     28          Santos\n",
            "1  Student 1     18       São Paulo\n",
            "2  Student 2     32  Rio de Janeiro\n",
            "3  Student 3     17       São Paulo\n",
            "4  Student 4     14       São Paulo\n",
            "----------------------\n"
          ],
          "name": "stdout"
        }
      ]
    },
    {
      "cell_type": "code",
      "metadata": {
        "colab": {
          "base_uri": "https://localhost:8080/"
        },
        "id": "7uwJmQ8Gm3LM",
        "outputId": "68b42071-5262-4b8e-e9e8-b6ca90887c58"
      },
      "source": [
        "def jsonDataframe():\r\n",
        "\r\n",
        "  map = {\r\n",
        "      \"name\" : [\"Huguinho\", \"Papão\", \"Student 2\", \"Student 3\", \"Student 4\",\r\n",
        "                \"Marcelo\"],\r\n",
        "      \"age\" : [ 28, 18, 32, 17, 14, 45 ]\r\n",
        "  }\r\n",
        "\r\n",
        "  df = pd.DataFrame( map );\r\n",
        "\r\n",
        "  # cria um dataframe c/ formato json, com diversas orientações e em UTF-8\r\n",
        "  jsonr = df.to_json(orient=\"records\", force_ascii=False)\r\n",
        "  jsonc = df.to_json(orient=\"columns\", force_ascii=False)\r\n",
        "  jsonv = df.to_json(orient=\"values\", force_ascii=False)\r\n",
        "  jsont = df.to_json(orient=\"table\", force_ascii=False)\r\n",
        "\r\n",
        "  print ( df );\r\n",
        "  print(\"\\nRecords----------------------\");\r\n",
        "  print(jsonr)\r\n",
        "  print(\"\\nColumns----------------------\");\r\n",
        "  print(jsonc)\r\n",
        "  print(\"\\nValues-----------------------\");\r\n",
        "  print(jsonv)\r\n",
        "  print(\"\\nTable-----------------------\");\r\n",
        "  print(jsont)\r\n",
        "\r\n",
        "jsonDataframe()"
      ],
      "execution_count": 65,
      "outputs": [
        {
          "output_type": "stream",
          "text": [
            "        name  age\n",
            "0   Huguinho   28\n",
            "1      Papão   18\n",
            "2  Student 2   32\n",
            "3  Student 3   17\n",
            "4  Student 4   14\n",
            "5    Marcelo   45\n",
            "\n",
            "Records----------------------\n",
            "[{\"name\":\"Huguinho\",\"age\":28},{\"name\":\"Papão\",\"age\":18},{\"name\":\"Student 2\",\"age\":32},{\"name\":\"Student 3\",\"age\":17},{\"name\":\"Student 4\",\"age\":14},{\"name\":\"Marcelo\",\"age\":45}]\n",
            "\n",
            "Columns----------------------\n",
            "{\"name\":{\"0\":\"Huguinho\",\"1\":\"Papão\",\"2\":\"Student 2\",\"3\":\"Student 3\",\"4\":\"Student 4\",\"5\":\"Marcelo\"},\"age\":{\"0\":28,\"1\":18,\"2\":32,\"3\":17,\"4\":14,\"5\":45}}\n",
            "\n",
            "Values-----------------------\n",
            "[[\"Huguinho\",28],[\"Papão\",18],[\"Student 2\",32],[\"Student 3\",17],[\"Student 4\",14],[\"Marcelo\",45]]\n",
            "\n",
            "Table-----------------------\n",
            "{\"schema\":{\"fields\":[{\"name\":\"index\",\"type\":\"integer\"},{\"name\":\"name\",\"type\":\"string\"},{\"name\":\"age\",\"type\":\"integer\"}],\"primaryKey\":[\"index\"],\"pandas_version\":\"0.20.0\"},\"data\":[{\"index\":0,\"name\":\"Huguinho\",\"age\":28},{\"index\":1,\"name\":\"Papão\",\"age\":18},{\"index\":2,\"name\":\"Student 2\",\"age\":32},{\"index\":3,\"name\":\"Student 3\",\"age\":17},{\"index\":4,\"name\":\"Student 4\",\"age\":14},{\"index\":5,\"name\":\"Marcelo\",\"age\":45}]}\n"
          ],
          "name": "stdout"
        }
      ]
    },
    {
      "cell_type": "code",
      "metadata": {
        "colab": {
          "base_uri": "https://localhost:8080/"
        },
        "id": "HV35OdhloUZa",
        "outputId": "e753e4ea-acb8-47ac-e0fb-df535c3b6bf3"
      },
      "source": [
        "def readCsv():\r\n",
        "  url = \"https://raw.githubusercontent.com/huguinho-alves/python_aceleracao_everys/main/arquivo.csv\"\r\n",
        "  df = pd.read_csv( url, delimiter=\",\" )\r\n",
        "\r\n",
        "  print( df )\r\n",
        "\r\n",
        "readCsv()"
      ],
      "execution_count": 72,
      "outputs": [
        {
          "output_type": "stream",
          "text": [
            "       name                title\n",
            "0  Huguinho  Expert IT Architect\n",
            "1  Student1              student\n",
            "2  Student2              student\n"
          ],
          "name": "stdout"
        }
      ]
    }
  ]
}