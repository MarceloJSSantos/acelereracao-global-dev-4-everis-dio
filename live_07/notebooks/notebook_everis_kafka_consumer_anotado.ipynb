{
  "nbformat": 4,
  "nbformat_minor": 0,
  "metadata": {
    "colab": {
      "name": "notebook_everis_kafka_consumer_anotado.ipynb",
      "provenance": [],
      "collapsed_sections": []
    },
    "kernelspec": {
      "name": "python3",
      "display_name": "Python 3"
    }
  },
  "cells": [
    {
      "cell_type": "code",
      "metadata": {
        "colab": {
          "base_uri": "https://localhost:8080/"
        },
        "id": "axGfpy9OH595",
        "outputId": "931aa2af-dc60-4034-98a0-51071e939e49"
      },
      "source": [
        "!pip install confluent_kafka"
      ],
      "execution_count": 1,
      "outputs": [
        {
          "output_type": "stream",
          "text": [
            "Collecting confluent_kafka\n",
            "\u001b[?25l  Downloading https://files.pythonhosted.org/packages/74/04/b131250b88c80201c4a648af1ab098798e1dcbf20807f79e3ce6e72c4ef4/confluent_kafka-1.5.0-cp36-cp36m-manylinux1_x86_64.whl (8.1MB)\n",
            "\u001b[K     |████████████████████████████████| 8.1MB 5.1MB/s \n",
            "\u001b[?25hInstalling collected packages: confluent-kafka\n",
            "Successfully installed confluent-kafka-1.5.0\n"
          ],
          "name": "stdout"
        }
      ]
    },
    {
      "cell_type": "code",
      "metadata": {
        "colab": {
          "base_uri": "https://localhost:8080/"
        },
        "id": "aT7mYbrQISIW",
        "outputId": "73cd98ac-0a77-49f7-cc5b-35869ee71771"
      },
      "source": [
        "import sys\r\n",
        "import os\r\n",
        "\r\n",
        "from confluent_kafka import Consumer, KafkaException, KafkaError\r\n",
        "\r\n",
        "def createConsumer():\r\n",
        "\r\n",
        "    # defino os tópicos que eu quero ficar \"ouvindo\"\r\n",
        "    topics = ['18xdcgow-default']\r\n",
        "\r\n",
        "    # Consumer configuration\r\n",
        "    # See https://github.com/edenhill/librdkafka/blob/master/CONFIGURATION.md\r\n",
        "    conf = {\r\n",
        "        'bootstrap.servers': 'tricycle-01.srvs.cloudkafka.com:9094, tricycle-02.srvs.cloudkafka.com:9094, tricycle-03.srvs.cloudkafka.com:9094',\r\n",
        "        # definir seu usuário\r\n",
        "        'group.id': \"%s-consumer\" % '18xdcgow',\r\n",
        "        'session.timeout.ms': 6000,\r\n",
        "        'default.topic.config': {'auto.offset.reset': 'smallest'},\r\n",
        "        'security.protocol': 'SASL_SSL',\r\n",
        "\t'sasl.mechanisms': 'SCRAM-SHA-256',\r\n",
        "        # definir seu usuário e senha do cluster no Karafka\r\n",
        "        'sasl.username': '',\r\n",
        "        'sasl.password': ''\r\n",
        "    }\r\n",
        "\r\n",
        "    c = Consumer(conf)\r\n",
        "    c.subscribe(topics)\r\n",
        "    try:\r\n",
        "        while True:\r\n",
        "            msg = c.poll(timeout=1.0)\r\n",
        "            if msg is None:\r\n",
        "                continue\r\n",
        "            if msg.error():\r\n",
        "                # Error or event\r\n",
        "                if msg.error().code() == KafkaError._PARTITION_EOF:\r\n",
        "                    # End of partition event\r\n",
        "                    sys.stderr.write('%% %s [%d] reached end at offset %d\\n' %\r\n",
        "                                     (msg.topic(), msg.partition(), msg.offset()))\r\n",
        "                elif msg.error():\r\n",
        "                    # Error\r\n",
        "                    raise KafkaException(msg.error())\r\n",
        "            else:\r\n",
        "                # Proper message\r\n",
        "                sys.stderr.write('%% %s [%d] at offset %d with key %s:\\n' %\r\n",
        "                                 (msg.topic(), msg.partition(), msg.offset(),\r\n",
        "                                  str(msg.key())))\r\n",
        "                # encode('utf-8') no producer e .decode('utf-8') aqui\r\n",
        "                print(msg.value().decode('utf-8'))\r\n",
        "\r\n",
        "    except KeyboardInterrupt:\r\n",
        "        sys.stderr.write('%% Aborted by user\\n')\r\n",
        "\r\n",
        "    # Close down consumer to commit final offsets.\r\n",
        "    c.close()\r\n",
        "\r\n",
        "createConsumer()"
      ],
      "execution_count": 2,
      "outputs": [
        {
          "output_type": "stream",
          "text": [
            "% 18xdcgow-default [4] at offset 3 with key None:\n"
          ],
          "name": "stderr"
        },
        {
          "output_type": "stream",
          "text": [
            "Saindo mais uma mensagem - Aceleração Everis - 2021-01-29 20:08:57\n"
          ],
          "name": "stdout"
        },
        {
          "output_type": "stream",
          "text": [
            "% 18xdcgow-default [0] at offset 4 with key None:\n"
          ],
          "name": "stderr"
        },
        {
          "output_type": "stream",
          "text": [
            "👌 - Saindo mais uma mensagem - Aceleração Everis - 2021-01-29 20:11:34\n"
          ],
          "name": "stdout"
        },
        {
          "output_type": "stream",
          "text": [
            "% 18xdcgow-default [4] at offset 4 with key None:\n"
          ],
          "name": "stderr"
        },
        {
          "output_type": "stream",
          "text": [
            "👌 - Saindo mais uma mensagem - Aceleração Everis - 2021-01-29 20:13:23 - 🙏\n"
          ],
          "name": "stdout"
        },
        {
          "output_type": "stream",
          "text": [
            "% 18xdcgow-default [1] at offset 6 with key None:\n"
          ],
          "name": "stderr"
        },
        {
          "output_type": "stream",
          "text": [
            "🇧🇷👌 - Saindo mais uma mensagem - Aceleração Everis - 2021-01-29 20:15:27 - 🙏🇧🇷\n"
          ],
          "name": "stdout"
        },
        {
          "output_type": "stream",
          "text": [
            "% 18xdcgow-default [0] at offset 5 with key None:\n"
          ],
          "name": "stderr"
        },
        {
          "output_type": "stream",
          "text": [
            "👌 - Saindo mais uma mensagem - Aceleração Everis - 2021-01-29 20:16:24 - 🙏\n"
          ],
          "name": "stdout"
        },
        {
          "output_type": "stream",
          "text": [
            "%% Aborted by user\n"
          ],
          "name": "stderr"
        }
      ]
    }
  ]
}