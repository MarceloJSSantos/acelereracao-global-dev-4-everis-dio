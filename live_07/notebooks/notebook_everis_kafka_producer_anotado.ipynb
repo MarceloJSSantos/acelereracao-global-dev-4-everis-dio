{
  "nbformat": 4,
  "nbformat_minor": 0,
  "metadata": {
    "colab": {
      "name": "notebook_everis_kafka_producer_anotado.ipynb",
      "provenance": []
    },
    "kernelspec": {
      "name": "python3",
      "display_name": "Python 3"
    }
  },
  "cells": [
    {
      "cell_type": "code",
      "metadata": {
        "colab": {
          "base_uri": "https://localhost:8080/"
        },
        "id": "DWeRO4SdEVW9",
        "outputId": "e40ffb3a-48ca-41b0-becb-7d7fd14c3991"
      },
      "source": [
        "#intalação da biblioteca confluent para trabalhar como Kafka\r\n",
        "!pip install confluent_kafka"
      ],
      "execution_count": 3,
      "outputs": [
        {
          "output_type": "stream",
          "text": [
            "Requirement already satisfied: confluent_kafka in /usr/local/lib/python3.6/dist-packages (1.5.0)\n"
          ],
          "name": "stdout"
        }
      ]
    },
    {
      "cell_type": "code",
      "metadata": {
        "colab": {
          "base_uri": "https://localhost:8080/"
        },
        "id": "P_X71RFmEeez",
        "outputId": "414f8ebc-702c-40bb-9ed8-29f66c828fe9"
      },
      "source": [
        "import sys\r\n",
        "import os\r\n",
        "import datetime\r\n",
        "\r\n",
        "from confluent_kafka import Producer\r\n",
        "\r\n",
        "def delivery_callback(err, msg):\r\n",
        "    if err:\r\n",
        "        print('%% Message failed delivery: %s\\n', err)\r\n",
        "    else:\r\n",
        "        print('%% Message delivered to %s [%d]\\n',\r\n",
        "                          (msg.topic(), msg.partition()))\r\n",
        "\r\n",
        "# cria um tópico\r\n",
        "def createTopic():\r\n",
        "    print(\"init\");\r\n",
        "    #nome do tópico criado no Karafka\r\n",
        "    topic = '18xdcgow-default'\r\n",
        "\r\n",
        "    # Consumer configuration\r\n",
        "    # See https://github.com/edenhill/librdkafka/blob/master/CONFIGURATION.md\r\n",
        "    conf = {\r\n",
        "        # servidores do cluster Karafka\r\n",
        "        'bootstrap.servers': 'tricycle-01.srvs.cloudkafka.com:9094, tricycle-02.srvs.cloudkafka.com:9094, tricycle-03.srvs.cloudkafka.com:9094',\r\n",
        "        'session.timeout.ms': 6000,\r\n",
        "        'default.topic.config': {'auto.offset.reset': 'smallest'},\r\n",
        "        'security.protocol': 'SASL_SSL',\r\n",
        "\t'sasl.mechanisms': 'SCRAM-SHA-256',\r\n",
        "        # definir seu usuário e senha do cluster no Karafka\r\n",
        "        'sasl.username': '18xdcgow',\r\n",
        "        'sasl.password': 'PpW8QF2iw2yW9EnLfjFp0dNQwIcCpNEM'\r\n",
        "    }\r\n",
        "\r\n",
        "    p = Producer(conf)\r\n",
        "    # defino a mensagem que eu quero produzir\r\n",
        "    # (pode ser qualquer string texto, .json, .html, etc.)\r\n",
        "    now = datetime.datetime.now()\r\n",
        "    mensagem = \"👌 - Saindo mais uma mensagem - Aceleração Everis - \" + \\\r\n",
        "               now.strftime(\"%Y-%m-%d %H:%M:%S\") + \" - 🙏\"\r\n",
        "\r\n",
        "    try:\r\n",
        "        # atribuo o tópico, a mensagem e uma função de callback\r\n",
        "        # decode('utf-8') no consumer e .encode('utf-8') aqui\r\n",
        "        p.produce(topic, mensagem.encode('utf-8'), callback=delivery_callback)\r\n",
        "    except BufferError as e:\r\n",
        "        print('%% Local producer queue is full (%d messages awaiting delivery): try again\\n',\r\n",
        "                          len(p))\r\n",
        "    p.poll(0)\r\n",
        "\r\n",
        "    print('%% Waiting for %d deliveries\\n' % len(p))\r\n",
        "    p.flush()\r\n",
        "\r\n",
        "createTopic();"
      ],
      "execution_count": 39,
      "outputs": [
        {
          "output_type": "stream",
          "text": [
            "init\n",
            "% Waiting for 1 deliveries\n",
            "\n",
            "%% Message delivered to %s [%d]\n",
            " ('18xdcgow-default', 0)\n"
          ],
          "name": "stdout"
        }
      ]
    }
  ]
}