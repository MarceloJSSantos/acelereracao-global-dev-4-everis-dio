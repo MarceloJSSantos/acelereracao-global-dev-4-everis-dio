{
  "nbformat": 4,
  "nbformat_minor": 0,
  "metadata": {
    "colab": {
      "name": "notebook_aceleracao_everis_codigo_python_postman_code_snippet.ipynb",
      "provenance": []
    },
    "kernelspec": {
      "name": "python3",
      "display_name": "Python 3"
    },
    "language_info": {
      "name": "python"
    }
  },
  "cells": [
    {
      "cell_type": "markdown",
      "metadata": {
        "id": "8xfnMvlS_l_c"
      },
      "source": [
        "# **Códigos em Python gerados pelo Code Snippet do Postman**"
      ]
    },
    {
      "cell_type": "code",
      "metadata": {
        "id": "VayMlQFQ8JRR"
      },
      "source": [
        "import requests"
      ],
      "execution_count": 1,
      "outputs": []
    },
    {
      "cell_type": "code",
      "metadata": {
        "colab": {
          "base_uri": "https://localhost:8080/"
        },
        "id": "TMRf3Uq38StZ",
        "outputId": "a9b2dc60-efb0-46bb-e11b-495a5f16faa1"
      },
      "source": [
        "# post\n",
        "url = \"https://605633e4055dbd0017e83d41.mockapi.io/dao/module/usuarios\"\n",
        "\n",
        "v_name = \"Andrea Ferreira Olympia\"\n",
        "v_nickname = \"a.f.olympia\"\n",
        "\n",
        "payload=\"{\" \\\n",
        "          \"\\\"name\\\" : \\\"\"+ v_name + \"\\\",\" \\\n",
        "          \"\\\"nickname\\\" : \\\"\"+ v_nickname +\"\\\",\" \\\n",
        "          \"\\\"age\\\" : 27\" \\\n",
        "        \"}\"\n",
        "\n",
        "headers = {\n",
        "  'Content-Type': 'application/json'\n",
        "}\n",
        "\n",
        "response = requests.request(\"POST\", url, headers=headers, data=payload)\n",
        "\n",
        "print(response.text)"
      ],
      "execution_count": 2,
      "outputs": [
        {
          "output_type": "stream",
          "text": [
            "{\"id\":\"5\",\"name\":\"Andrea Ferreira Olympia\",\"nickname\":\"a.f.olympia\",\"age\":27}\n"
          ],
          "name": "stdout"
        }
      ]
    },
    {
      "cell_type": "code",
      "metadata": {
        "colab": {
          "base_uri": "https://localhost:8080/"
        },
        "id": "hV3aopBN-Nvs",
        "outputId": "c764ce76-c9d0-425b-83d2-7b49d63b7983"
      },
      "source": [
        "# put\n",
        "import requests\n",
        "\n",
        "vId = \"5\"\n",
        "\n",
        "url = \"https://605633e4055dbd0017e83d41.mockapi.io/dao/module/usuarios/\"+ vId\n",
        "\n",
        "v_name = \"Andrea Ferreira Ollympia\"\n",
        "v_nickname = \"a.f.ollympia\"\n",
        "\n",
        "payload=\"{\\\"name\\\" : \\\"\"+ v_name +\"\\\",\\\"nickname\\\" : \\\"\"+ v_nickname + \"\\\"}\"\n",
        "headers = {\n",
        "  'Content-Type': 'application/json'\n",
        "}\n",
        "\n",
        "response = requests.request(\"PUT\", url, headers=headers, data=payload)\n",
        "\n",
        "print(response.text)"
      ],
      "execution_count": 3,
      "outputs": [
        {
          "output_type": "stream",
          "text": [
            "{\"id\":\"5\",\"name\":\"Andrea Ferreira Ollympia\",\"nickname\":\"a.f.ollympia\",\"age\":27}\n"
          ],
          "name": "stdout"
        }
      ]
    },
    {
      "cell_type": "code",
      "metadata": {
        "colab": {
          "base_uri": "https://localhost:8080/"
        },
        "id": "WbinnSb99AmW",
        "outputId": "e89e20d3-ac41-4f41-e9c0-3a9d06014c55"
      },
      "source": [
        "# get\n",
        "url = \"https://605633e4055dbd0017e83d41.mockapi.io/dao/module/usuarios\"\n",
        "\n",
        "payload={}\n",
        "headers = {}\n",
        "\n",
        "response = requests.request(\"GET\", url, headers=headers, data=payload)\n",
        "\n",
        "print(response.text)"
      ],
      "execution_count": 4,
      "outputs": [
        {
          "output_type": "stream",
          "text": [
            "[{\"id\":\"1\",\"name\":\"Aceleração Global Dev - Everis\",\"nickname\":\"ac.everis\",\"age\":45},{\"id\":\"2\",\"name\":\"Marcelo Junior Ferradeiro Sampaio\",\"nickname\":\"m.jr.ferradeiro\",\"age\":45},{\"id\":\"3\",\"name\":\"Marcelo Bial Ferradeiro\",\"nickname\":\"m.bial\",\"age\":34},{\"id\":\"4\",\"name\":\"Júlio Batista da Silva Camargo\",\"nickname\":\"j.silva.camargo\",\"age\":87},{\"id\":\"5\",\"name\":\"Andrea Ferreira Ollympia\",\"nickname\":\"a.f.ollympia\",\"age\":27}]\n"
          ],
          "name": "stdout"
        }
      ]
    },
    {
      "cell_type": "code",
      "metadata": {
        "colab": {
          "base_uri": "https://localhost:8080/"
        },
        "id": "BIUtCnYX9Puj",
        "outputId": "75bce508-19ae-49a0-e43e-d5348c53b30e"
      },
      "source": [
        "# get by id\n",
        "vId = \"5\"\n",
        "\n",
        "url = \"https://605633e4055dbd0017e83d41.mockapi.io/dao/module/usuarios/\"+ vId\n",
        "\n",
        "payload={}\n",
        "headers = {}\n",
        "\n",
        "response = requests.request(\"GET\", url, headers=headers, data=payload)\n",
        "\n",
        "print(response.text)"
      ],
      "execution_count": 5,
      "outputs": [
        {
          "output_type": "stream",
          "text": [
            "{\"id\":\"5\",\"name\":\"Andrea Ferreira Ollympia\",\"nickname\":\"a.f.ollympia\",\"age\":27}\n"
          ],
          "name": "stdout"
        }
      ]
    },
    {
      "cell_type": "code",
      "metadata": {
        "colab": {
          "base_uri": "https://localhost:8080/"
        },
        "id": "Eh7c-V1c95K3",
        "outputId": "f1b255d8-89d6-4efe-ac92-22f1995ef063"
      },
      "source": [
        "# delete\n",
        "vId = \"5\"\n",
        "\n",
        "url = \"https://605633e4055dbd0017e83d41.mockapi.io/dao/module/usuarios/\"+ vId\n",
        "\n",
        "payload={}\n",
        "headers = {}\n",
        "\n",
        "response = requests.request(\"DELETE\", url, headers=headers, data=payload)\n",
        "\n",
        "print(response.text)"
      ],
      "execution_count": 6,
      "outputs": [
        {
          "output_type": "stream",
          "text": [
            "{\"id\":\"5\",\"name\":\"Andrea Ferreira Ollympia\",\"nickname\":\"a.f.ollympia\",\"age\":27}\n"
          ],
          "name": "stdout"
        }
      ]
    }
  ]
}